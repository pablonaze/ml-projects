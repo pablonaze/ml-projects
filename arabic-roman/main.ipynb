{
 "cells": [
  {
   "cell_type": "markdown",
   "metadata": {},
   "source": [
    "# Converting Roman -> Arabic numerals through ML (and why this is a bad idea)"
   ]
  },
  {
   "cell_type": "markdown",
   "metadata": {},
   "source": [
    "This is a [Toy Problem](https://en.wikipedia.org/wiki/Toy_problem) and also a bad idea.<br><br> **Why is this a bad idea?** <br><br> Machine learning is not the appropriate tool to tackle this challenge. <br> We need to understand what we're trying to predict. This problem maps a 1:1 relationship, every number will have a unique roman and a unique arabic numeral identifying it. Therefore, how may one try to identify patterns in data, when there is nothing *actually* to be generalized? <br> <br> This is an [Overfitting](https://en.wikipedia.org/wiki/Overfitting) issue, as we're just trying to teach the exact values to the model. \n",
    "<br>\n",
    "Also note that the problem here is not to have multiple classes; after all, classfying objects from pictures is doable and also a multi-class problem. <br><br><br> **Nevertheless**, the following experiment and exploration showcases another limitation in terms of feature engineering: several roman numerals share the same letters, but differ in order. As a result, considering their position is essential to this problem."
   ]
  },
  {
   "cell_type": "code",
   "execution_count": 1,
   "metadata": {},
   "outputs": [],
   "source": [
    "# Problem space: Trying to predict arabic numerals from roman numerals. \n",
    "# We'll use data that spans from 1 to 1000."
   ]
  },
  {
   "cell_type": "code",
   "execution_count": 2,
   "metadata": {},
   "outputs": [],
   "source": [
    "# Libraries\n",
    "import pandas as pd\n",
    "import numpy as np\n",
    "import matplotlib.pyplot as plt\n",
    "from sklearn.model_selection import train_test_split\n",
    "from sklearn import tree"
   ]
  },
  {
   "cell_type": "code",
   "execution_count": 3,
   "metadata": {},
   "outputs": [
    {
     "name": "stdout",
     "output_type": "stream",
     "text": [
      "arabic     int64\n",
      "roman     object\n",
      "dtype: object\n"
     ]
    }
   ],
   "source": [
    "# Importing and inspecting data\n",
    "data = pd.read_csv(\"data/1-1000.csv\")\n",
    "print(data.dtypes)"
   ]
  },
  {
   "cell_type": "code",
   "execution_count": 4,
   "metadata": {},
   "outputs": [
    {
     "name": "stdout",
     "output_type": "stream",
     "text": [
      "     arabic     roman\n",
      "996     996    CMXCVI\n",
      "997     997   CMXCVII\n",
      "998     998  CMXCVIII\n",
      "999     999    CMXCIX\n",
      "11     1000         M\n",
      "arabic     int64\n",
      "roman     object\n",
      "dtype: object\n"
     ]
    }
   ],
   "source": [
    "# Cleaning\n",
    "data['roman'] = data['roman'].str.strip()\n",
    "print(data.sort_values(by=['arabic']).tail())\n",
    "print(data.dtypes)"
   ]
  },
  {
   "cell_type": "markdown",
   "metadata": {},
   "source": [
    "## Aproach 1: Counting letters\n",
    "We'll count how many times a letter appears as our key feature, regardless of the order they appear"
   ]
  },
  {
   "cell_type": "code",
   "execution_count": 5,
   "metadata": {},
   "outputs": [],
   "source": [
    "# Semi-One hot encoding – Making the classifier understand letters in a friendlier way"
   ]
  },
  {
   "cell_type": "code",
   "execution_count": 6,
   "metadata": {},
   "outputs": [
    {
     "name": "stdout",
     "output_type": "stream",
     "text": [
      "['V', 'C', 'L', 'D', 'M', 'I', 'X']\n",
      "     arabic     roman   V   C   L   D   M   I   X\n",
      "0         1         I NaN NaN NaN NaN NaN NaN NaN\n",
      "1         2        II NaN NaN NaN NaN NaN NaN NaN\n",
      "2         3       III NaN NaN NaN NaN NaN NaN NaN\n",
      "3         4        IV NaN NaN NaN NaN NaN NaN NaN\n",
      "4         5         V NaN NaN NaN NaN NaN NaN NaN\n",
      "..      ...       ...  ..  ..  ..  ..  ..  ..  ..\n",
      "995     995     CMXCV NaN NaN NaN NaN NaN NaN NaN\n",
      "996     996    CMXCVI NaN NaN NaN NaN NaN NaN NaN\n",
      "997     997   CMXCVII NaN NaN NaN NaN NaN NaN NaN\n",
      "998     998  CMXCVIII NaN NaN NaN NaN NaN NaN NaN\n",
      "999     999    CMXCIX NaN NaN NaN NaN NaN NaN NaN\n",
      "\n",
      "[1000 rows x 9 columns]\n"
     ]
    }
   ],
   "source": [
    "dataset = data.copy()\n",
    "\n",
    "romans = data['roman'].unique()\n",
    "letters_list = []\n",
    "for r in romans:\n",
    "    letters = list(r)\n",
    "    for l in letters:\n",
    "        letters_list.append(l)\n",
    "letters_list = list(set(letters_list))\n",
    "print(letters_list)\n",
    "\n",
    "for l in letters_list:\n",
    "    dataset[l] = np.nan\n",
    "    \n",
    "print(dataset)"
   ]
  },
  {
   "cell_type": "code",
   "execution_count": 7,
   "metadata": {},
   "outputs": [
    {
     "name": "stdout",
     "output_type": "stream",
     "text": [
      "     arabic     roman  V  C  L  D  M  I  X\n",
      "0         1         I  0  0  0  0  0  1  0\n",
      "1         2        II  0  0  0  0  0  2  0\n",
      "2         3       III  0  0  0  0  0  3  0\n",
      "3         4        IV  1  0  0  0  0  1  0\n",
      "4         5         V  1  0  0  0  0  0  0\n",
      "..      ...       ... .. .. .. .. .. .. ..\n",
      "995     995     CMXCV  1  2  0  0  1  0  1\n",
      "996     996    CMXCVI  1  2  0  0  1  1  1\n",
      "997     997   CMXCVII  1  2  0  0  1  2  1\n",
      "998     998  CMXCVIII  1  2  0  0  1  3  1\n",
      "999     999    CMXCIX  0  2  0  0  1  1  2\n",
      "\n",
      "[1000 rows x 9 columns]\n"
     ]
    }
   ],
   "source": [
    "# Function to count letters\n",
    "def count_letters(roman, letter):\n",
    "    letters =  list(roman)\n",
    "    count = 0\n",
    "    for i in letters:\n",
    "        if str(i) == letter:\n",
    "            count += 1\n",
    "    return count\n",
    "#count_letters(\"CMXCV\", \"V\")\n",
    "\n",
    "#Applying function to dataset\n",
    "for l in letters_list:\n",
    "    dataset[l] = dataset[\"roman\"].apply(count_letters,letter=l)\n",
    "print(dataset)"
   ]
  },
  {
   "cell_type": "code",
   "execution_count": 8,
   "metadata": {},
   "outputs": [],
   "source": [
    "# Preparing dataset for ML\n",
    "romans_target = dataset[\"arabic\"].values\n",
    "romans_data = dataset.iloc[:,2:].values\n",
    "feature_names = list(dataset.iloc[:,2:].columns)"
   ]
  },
  {
   "cell_type": "code",
   "execution_count": 9,
   "metadata": {
    "scrolled": true
   },
   "outputs": [],
   "source": [
    "# Splitting datasets, training decision tree, and predicting values\n",
    "X_train, X_test, Y_train, Y_test = train_test_split(romans_data, romans_target, test_size = 0.2)\n",
    "clf = tree.DecisionTreeClassifier()\n",
    "clf.fit(X_train, Y_train)\n",
    "Y_pred = clf.predict(X_test)"
   ]
  },
  {
   "cell_type": "code",
   "execution_count": 10,
   "metadata": {},
   "outputs": [
    {
     "data": {
      "text/html": [
       "<div>\n",
       "<style scoped>\n",
       "    .dataframe tbody tr th:only-of-type {\n",
       "        vertical-align: middle;\n",
       "    }\n",
       "\n",
       "    .dataframe tbody tr th {\n",
       "        vertical-align: top;\n",
       "    }\n",
       "\n",
       "    .dataframe thead th {\n",
       "        text-align: right;\n",
       "    }\n",
       "</style>\n",
       "<table border=\"1\" class=\"dataframe\">\n",
       "  <thead>\n",
       "    <tr style=\"text-align: right;\">\n",
       "      <th></th>\n",
       "      <th>actual_roman</th>\n",
       "      <th>actual</th>\n",
       "      <th>pred</th>\n",
       "      <th>pred_roman</th>\n",
       "    </tr>\n",
       "  </thead>\n",
       "  <tbody>\n",
       "    <tr>\n",
       "      <th>0</th>\n",
       "      <td>CCCLXXXII</td>\n",
       "      <td>382</td>\n",
       "      <td>379</td>\n",
       "      <td>CCCLXXIX</td>\n",
       "    </tr>\n",
       "    <tr>\n",
       "      <th>1</th>\n",
       "      <td>DCCCLIII</td>\n",
       "      <td>853</td>\n",
       "      <td>753</td>\n",
       "      <td>DCCLIII</td>\n",
       "    </tr>\n",
       "    <tr>\n",
       "      <th>2</th>\n",
       "      <td>DCCCXXXII</td>\n",
       "      <td>832</td>\n",
       "      <td>833</td>\n",
       "      <td>DCCCXXXIII</td>\n",
       "    </tr>\n",
       "    <tr>\n",
       "      <th>3</th>\n",
       "      <td>CMV</td>\n",
       "      <td>905</td>\n",
       "      <td>915</td>\n",
       "      <td>CMXV</td>\n",
       "    </tr>\n",
       "    <tr>\n",
       "      <th>4</th>\n",
       "      <td>XCVII</td>\n",
       "      <td>97</td>\n",
       "      <td>117</td>\n",
       "      <td>CXVII</td>\n",
       "    </tr>\n",
       "    <tr>\n",
       "      <th>5</th>\n",
       "      <td>CDXCIX</td>\n",
       "      <td>499</td>\n",
       "      <td>699</td>\n",
       "      <td>DCXCIX</td>\n",
       "    </tr>\n",
       "    <tr>\n",
       "      <th>6</th>\n",
       "      <td>DCCXXII</td>\n",
       "      <td>722</td>\n",
       "      <td>822</td>\n",
       "      <td>DCCCXXII</td>\n",
       "    </tr>\n",
       "    <tr>\n",
       "      <th>7</th>\n",
       "      <td>DVII</td>\n",
       "      <td>507</td>\n",
       "      <td>504</td>\n",
       "      <td>DIV</td>\n",
       "    </tr>\n",
       "    <tr>\n",
       "      <th>8</th>\n",
       "      <td>LXI</td>\n",
       "      <td>61</td>\n",
       "      <td>41</td>\n",
       "      <td>XLI</td>\n",
       "    </tr>\n",
       "    <tr>\n",
       "      <th>9</th>\n",
       "      <td>DXLIX</td>\n",
       "      <td>549</td>\n",
       "      <td>569</td>\n",
       "      <td>DLXIX</td>\n",
       "    </tr>\n",
       "    <tr>\n",
       "      <th>10</th>\n",
       "      <td>CMXCIII</td>\n",
       "      <td>993</td>\n",
       "      <td>992</td>\n",
       "      <td>CMXCII</td>\n",
       "    </tr>\n",
       "    <tr>\n",
       "      <th>11</th>\n",
       "      <td>DLV</td>\n",
       "      <td>555</td>\n",
       "      <td>545</td>\n",
       "      <td>DXLV</td>\n",
       "    </tr>\n",
       "    <tr>\n",
       "      <th>12</th>\n",
       "      <td>CDXVIII</td>\n",
       "      <td>418</td>\n",
       "      <td>618</td>\n",
       "      <td>DCXVIII</td>\n",
       "    </tr>\n",
       "    <tr>\n",
       "      <th>13</th>\n",
       "      <td>CLXVI</td>\n",
       "      <td>166</td>\n",
       "      <td>144</td>\n",
       "      <td>CXLIV</td>\n",
       "    </tr>\n",
       "    <tr>\n",
       "      <th>14</th>\n",
       "      <td>CCCXV</td>\n",
       "      <td>315</td>\n",
       "      <td>345</td>\n",
       "      <td>CCCXLV</td>\n",
       "    </tr>\n",
       "  </tbody>\n",
       "</table>\n",
       "</div>"
      ],
      "text/plain": [
       "   actual_roman  actual  pred  pred_roman\n",
       "0     CCCLXXXII     382   379    CCCLXXIX\n",
       "1      DCCCLIII     853   753     DCCLIII\n",
       "2     DCCCXXXII     832   833  DCCCXXXIII\n",
       "3           CMV     905   915        CMXV\n",
       "4         XCVII      97   117       CXVII\n",
       "5        CDXCIX     499   699      DCXCIX\n",
       "6       DCCXXII     722   822    DCCCXXII\n",
       "7          DVII     507   504         DIV\n",
       "8           LXI      61    41         XLI\n",
       "9         DXLIX     549   569       DLXIX\n",
       "10      CMXCIII     993   992      CMXCII\n",
       "11          DLV     555   545        DXLV\n",
       "12      CDXVIII     418   618     DCXVIII\n",
       "13        CLXVI     166   144       CXLIV\n",
       "14        CCCXV     315   345      CCCXLV"
      ]
     },
     "execution_count": 10,
     "metadata": {},
     "output_type": "execute_result"
    }
   ],
   "source": [
    "#Printing some of the results\n",
    "result = []\n",
    "for i in range(0,15):\n",
    "    value = Y_test[i]\n",
    "    dic = {'actual_roman':data[data['arabic']==value].iloc[0,1],\n",
    "           'actual':Y_test[i], \n",
    "           'pred': Y_pred[i],\n",
    "           'pred_roman': data[data['arabic']==Y_pred[i]].iloc[0,1]\n",
    "          }\n",
    "    result.append(dic)\n",
    "pd.DataFrame(result)                                           "
   ]
  },
  {
   "cell_type": "markdown",
   "metadata": {},
   "source": [
    "Besides the problem with having unique classes to be predicted, this specific approach does not consider the position of the roman numeral <br> As can be seen above, some numbers share the exact same roman numerals, such as 61 (LXI) and 41 (XLI). Since the model's features does not take position into account, this is a clearly flawled approach"
   ]
  },
  {
   "cell_type": "markdown",
   "metadata": {},
   "source": [
    "As mentioned in the beginning of the notebook, this is clearly a bad diea. Nonetheless, this experiment shows some interesting ML concepts, such as overfitting and how crucial feature engineering is."
   ]
  }
 ],
 "metadata": {
  "kernelspec": {
   "display_name": "Python 3",
   "language": "python",
   "name": "python3"
  },
  "language_info": {
   "codemirror_mode": {
    "name": "ipython",
    "version": 3
   },
   "file_extension": ".py",
   "mimetype": "text/x-python",
   "name": "python",
   "nbconvert_exporter": "python",
   "pygments_lexer": "ipython3",
   "version": "3.6.1"
  }
 },
 "nbformat": 4,
 "nbformat_minor": 2
}
